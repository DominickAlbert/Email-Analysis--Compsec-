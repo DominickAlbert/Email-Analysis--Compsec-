{
 "cells": [
  {
   "cell_type": "code",
   "execution_count": 1,
   "id": "d1643ef1",
   "metadata": {},
   "outputs": [],
   "source": [
    "import pandas as pd\n",
    "import numpy as np\n",
    "import matplotlib.pyplot as plt\n",
    "import seaborn as sns\n",
    "import re"
   ]
  },
  {
   "cell_type": "code",
   "execution_count": 25,
   "id": "7f35324a",
   "metadata": {},
   "outputs": [],
   "source": [
    "df = pd.read_csv(\"CEAS_08.csv\")\n",
    "df_original = df.copy()"
   ]
  },
  {
   "cell_type": "code",
   "execution_count": 20,
   "id": "95154faf",
   "metadata": {},
   "outputs": [
    {
     "name": "stdout",
     "output_type": "stream",
     "text": [
      "<class 'pandas.core.frame.DataFrame'>\n",
      "RangeIndex: 39154 entries, 0 to 39153\n",
      "Data columns (total 7 columns):\n",
      " #   Column    Non-Null Count  Dtype \n",
      "---  ------    --------------  ----- \n",
      " 0   sender    39154 non-null  object\n",
      " 1   receiver  38692 non-null  object\n",
      " 2   date      39154 non-null  object\n",
      " 3   subject   39126 non-null  object\n",
      " 4   body      39154 non-null  object\n",
      " 5   label     39154 non-null  int64 \n",
      " 6   urls      39154 non-null  int64 \n",
      "dtypes: int64(2), object(5)\n",
      "memory usage: 2.1+ MB\n"
     ]
    }
   ],
   "source": [
    "df.info()"
   ]
  },
  {
   "cell_type": "markdown",
   "id": "83d3f30b",
   "metadata": {},
   "source": [
    "# Preprocessing"
   ]
  },
  {
   "cell_type": "code",
   "execution_count": null,
   "id": "6c739e62",
   "metadata": {},
   "outputs": [],
   "source": [
    "def clean_text(text):\n",
    "    text = re.sub(r\"<[^>]+>\", \"\", str(text))  \n",
    "    text = re.sub(r\"[^a-zA-Z0-9\\s]\", \"\", text)\n",
    "    return text.lower().strip()\n",
    "\n",
    "df[\"clean_subject\"] = df[\"subject\"].apply(clean_text)\n",
    "df[\"clean_body\"] = df[\"body\"].apply(clean_text)\n",
    "\n",
    "# Extract sender domain\n",
    "df[\"sender_domain\"] = df[\"sender\"].apply(lambda x: x.split(\"@\")[-1] if pd.notnull(x) else \"\")\n",
    "df['sender_domain'] = df['sender_domain'].str[:-1]\n",
    "\n",
    "df[\"receiver_domain\"] = df[\"receiver\"].apply(lambda x: x.split(\"@\")[-1] if pd.notnull(x) else \"\")\n",
    "# df['receiver_domain'] = df['receiver_domain'].str[:-1]\n",
    "df['receiver_domain'] = df['receiver_domain'].apply(lambda x: x[:-1] if x.endswith(\">\") else x)\n",
    "\n",
    "# Parse date (handle inconsistent formats)\n",
    "df[\"date\"] = df[\"date\"].apply(lambda x: pd.to_datetime(x, errors=\"coerce\",utc = True))\n",
    "df['hour'] = df['date'].dt.hour\n",
    "df['day_of_week'] = df['date'].dt.dayofweek \n",
    "df['hour_normalized'] = df['hour'] / 23.0\n",
    "\n",
    "df = df.dropna(subset=[\"label\", \"clean_subject\", \"clean_body\",\"receiver\",\"subject\",\"date\"])"
   ]
  },
  {
   "cell_type": "code",
   "execution_count": 7,
   "id": "f9fc6804",
   "metadata": {},
   "outputs": [
    {
     "data": {
      "text/plain": [
       "label\n",
       "1    21812\n",
       "0    16842\n",
       "Name: count, dtype: int64"
      ]
     },
     "execution_count": 7,
     "metadata": {},
     "output_type": "execute_result"
    }
   ],
   "source": [
    "df['label'].value_counts()"
   ]
  },
  {
   "cell_type": "markdown",
   "id": "5ec730b7",
   "metadata": {},
   "source": [
    "# Balancing"
   ]
  },
  {
   "cell_type": "code",
   "execution_count": 8,
   "id": "3b69979b",
   "metadata": {},
   "outputs": [
    {
     "data": {
      "text/plain": [
       "label\n",
       "1    16842\n",
       "0    16842\n",
       "Name: count, dtype: int64"
      ]
     },
     "execution_count": 8,
     "metadata": {},
     "output_type": "execute_result"
    }
   ],
   "source": [
    "# Separate the majority and minority classes\n",
    "majority_class = df[df['label'] == 1]\n",
    "minority_class = df[df['label'] == 0]\n",
    "\n",
    "# Randomly sample from the majority class to match the size of the minority class\n",
    "balanced_majority_class = majority_class.sample(len(minority_class), random_state=42)\n",
    "\n",
    "# Combine the balanced majority class with the minority class\n",
    "df_balanced = pd.concat([balanced_majority_class, minority_class])\n",
    "\n",
    "# Shuffle the resulting dataframe\n",
    "df_balanced = df_balanced.sample(frac=1, random_state=42).reset_index(drop=True)\n",
    "\n",
    "df_balanced['label'].value_counts()"
   ]
  },
  {
   "cell_type": "code",
   "execution_count": null,
   "id": "71ef8534",
   "metadata": {},
   "outputs": [],
   "source": [
    "df_balanced = df_balanced.drop(columns=[\"date\", \"sender\", \"receiver\", \"subject\", \"body\"])"
   ]
  },
  {
   "cell_type": "markdown",
   "id": "f95a5569",
   "metadata": {},
   "source": [
    "# Vectorize"
   ]
  },
  {
   "cell_type": "code",
   "execution_count": null,
   "id": "bcd693e4",
   "metadata": {},
   "outputs": [],
   "source": [
    "ffffff"
   ]
  },
  {
   "cell_type": "code",
   "execution_count": 9,
   "id": "4affcb8b",
   "metadata": {},
   "outputs": [],
   "source": [
    "from sklearn.feature_extraction.text import TfidfVectorizer\n",
    "from sklearn.model_selection import train_test_split"
   ]
  },
  {
   "cell_type": "code",
   "execution_count": null,
   "id": "f5f0813e",
   "metadata": {},
   "outputs": [
    {
     "ename": "",
     "evalue": "",
     "output_type": "error",
     "traceback": [
      "\u001b[1;31mnotebook controller is DISPOSED. \n",
      "\u001b[1;31mView Jupyter <a href='command:jupyter.viewOutput'>log</a> for further details."
     ]
    }
   ],
   "source": [
    "import tensorflow as tf\n",
    "import tensorflow_federated as tff\n",
    "\n",
    "# Define a simple Keras model\n",
    "def create_keras_model():\n",
    "    model = tf.keras.Sequential([\n",
    "        tf.keras.layers.Dense(64, activation=\"relu\", input_shape=(X_train.shape[1],)),\n",
    "        tf.keras.layers.Dense(1, activation=\"sigmoid\")\n",
    "    ])\n",
    "    model.compile(optimizer=\"adam\", loss=\"binary_crossentropy\", metrics=[\"accuracy\"])\n",
    "    return model\n",
    "\n",
    "# Wrap the Keras model for TFF\n",
    "def model_fn():\n",
    "    return tff.learning.from_keras_model(\n",
    "        create_keras_model(),\n",
    "        input_spec=tf.data.Dataset.from_tensor_slices((X_train, y_train)).element_spec,\n",
    "        loss=tf.keras.losses.BinaryCrossentropy(),\n",
    "        metrics=[tf.keras.metrics.BinaryAccuracy()]\n",
    "    )\n",
    "\n",
    "# Simulate 3 clients (split data into 3 partitions)\n",
    "client_data = []\n",
    "for i in range(3):\n",
    "    client_X, _, client_y, _ = train_test_split(X_train, y_train, test_size=0.7, stratify=y_train)\n",
    "    client_data.append(tf.data.Dataset.from_tensor_slices((client_X, client_y)).batch(32))\n",
    "\n",
    "# Initialize the FL process\n",
    "trainer = tff.learning.build_federated_averaging_process(\n",
    "    model_fn,\n",
    "    client_optimizer_fn=lambda: tf.keras.optimizers.SGD(learning_rate=0.02),\n",
    "    server_optimizer_fn=lambda: tf.keras.optimizers.SGD(learning_rate=1.0)\n",
    ")\n",
    "\n",
    "# Run FL rounds\n",
    "state = trainer.initialize()\n",
    "for round_num in range(5):\n",
    "    state, metrics = trainer.next(state, client_data)\n",
    "    print(f\"Round {round_num}: Loss={metrics['train']['loss']}, Accuracy={metrics['train']['binary_accuracy']}\")"
   ]
  },
  {
   "cell_type": "code",
   "execution_count": null,
   "id": "acd7f868",
   "metadata": {},
   "outputs": [
    {
     "ename": "",
     "evalue": "",
     "output_type": "error",
     "traceback": [
      "\u001b[1;31mnotebook controller is DISPOSED. \n",
      "\u001b[1;31mView Jupyter <a href='command:jupyter.viewOutput'>log</a> for further details."
     ]
    }
   ],
   "source": [
    "import shap\n",
    "\n",
    "# Train a final model on the full dataset\n",
    "final_model = create_keras_model()\n",
    "final_model.fit(X_train, y_train, epochs=10, batch_size=32)\n",
    "\n",
    "# Generate SHAP explanations\n",
    "explainer = shap.DeepExplainer(final_model, X_train[:100])\n",
    "shap_values = explainer.shap_values(X_test[:10])\n",
    "\n",
    "# Visualize\n",
    "shap.summary_plot(shap_values, X_test[:10])"
   ]
  }
 ],
 "metadata": {
  "kernelspec": {
   "display_name": ".venv",
   "language": "python",
   "name": "python3"
  },
  "language_info": {
   "codemirror_mode": {
    "name": "ipython",
    "version": 3
   },
   "file_extension": ".py",
   "mimetype": "text/x-python",
   "name": "python",
   "nbconvert_exporter": "python",
   "pygments_lexer": "ipython3",
   "version": "3.12.0"
  }
 },
 "nbformat": 4,
 "nbformat_minor": 5
}
